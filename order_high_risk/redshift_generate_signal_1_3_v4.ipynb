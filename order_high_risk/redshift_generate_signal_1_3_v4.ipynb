{
  "cells": [
    {
      "cell_type": "code",
      "execution_count": null,
      "metadata": {
        "id": "CWboMu8NWNaG"
      },
      "outputs": [],
      "source": [
        "ver = 1 # version running when checking\n",
        "Checker = \"Rona\"\n",
        "Check_reason = \"Daily Checking\" # Khi check dispute nên đổi Check_reason để output trả ra đúng reason\n",
        "template_sheet = \"template\" # sheet name of final template sheet\n",
        "purpose = 'daily' # hiện tại để 2 purpose là daily - check order high risk hàng ngày & dispute - check dispute khi cần thiết"
      ]
    },
    {
      "cell_type": "code",
      "execution_count": null,
      "metadata": {
        "colab": {
          "base_uri": "https://localhost:8080/"
        },
        "id": "SMvlgzaiWVat",
        "outputId": "ae32d042-8786-4b98-f4b5-fe7078655bf9"
      },
      "outputs": [
        {
          "output_type": "stream",
          "name": "stdout",
          "text": [
            "Drive already mounted at /content/drive; to attempt to forcibly remount, call drive.mount(\"/content/drive\", force_remount=True).\n"
          ]
        }
      ],
      "source": [
        "from datetime import datetime\n",
        "Check_date = datetime.today().strftime('%Y-%m-%d')\n",
        "\n",
        "import pandas as pd\n",
        "import numpy as np\n",
        "import os\n",
        "import requests as re\n",
        "from copy import deepcopy\n",
        "\n",
        "from google.colab import drive, auth, files\n",
        "drive.mount('/content/drive')\n",
        "auth.authenticate_user()\n",
        "\n",
        "import gspread\n",
        "from google.auth import default\n",
        "creds, _ = default()\n",
        "\n",
        "gc = gspread.authorize(creds)"
      ]
    },
    {
      "cell_type": "code",
      "execution_count": null,
      "metadata": {
        "id": "i5nf7Ze7WVlG"
      },
      "outputs": [],
      "source": [
        "dict_deci = \\\n",
        "{'Alert1': 'Alert1',\n",
        " 'Alert2': 'Alert2',\n",
        " 'Alert4': 'Alert4',\n",
        " 'Alert5': 'Alert5',\n",
        " 'S1': 'S1',\n",
        " 'H3': 'H3',\n",
        " 'H5': 'H5',\n",
        " 'M10': 'M10',\n",
        " 'H8': 'H8'}"
      ]
    },
    {
      "cell_type": "code",
      "execution_count": null,
      "metadata": {
        "id": "V5px4EjOWVoR"
      },
      "outputs": [],
      "source": [
        "dict_next_action = \\\n",
        "{'Alert1': 'Alert DA fix',\n",
        " 'Alert2': 'Hold to check merchant test orders/other reason',\n",
        " 'Alert4': 'Hold to check fraud buyer',\n",
        " 'Alert5': 'Hold to check fraud products',\n",
        " 'S1': 'Cancel & refund',\n",
        " 'H3': 'Cancel & refund',\n",
        " 'H5': 'Hold to confirm with buyer',\n",
        " 'M10': 'Hold to confirm with buyer',\n",
        " 'H8': 'Hold order to review store'}"
      ]
    },
    {
      "cell_type": "markdown",
      "metadata": {
        "id": "LzOcVgxhFPI4"
      },
      "source": [
        "## *Get data*\n",
        "\n"
      ]
    },
    {
      "cell_type": "code",
      "execution_count": null,
      "metadata": {
        "colab": {
          "base_uri": "https://localhost:8080/",
          "height": 74
        },
        "id": "4sW3uc0SWVgs",
        "outputId": "300b65c5-7530-4fe9-8088-4ef67eff9eeb"
      },
      "outputs": [
        {
          "output_type": "display_data",
          "data": {
            "text/plain": [
              "<IPython.core.display.HTML object>"
            ],
            "text/html": [
              "\n",
              "     <input type=\"file\" id=\"files-1cd3bcd6-50c4-4dfe-8d23-4e37d50ecf18\" name=\"files[]\" multiple disabled\n",
              "        style=\"border:none\" />\n",
              "     <output id=\"result-1cd3bcd6-50c4-4dfe-8d23-4e37d50ecf18\">\n",
              "      Upload widget is only available when the cell has been executed in the\n",
              "      current browser session. Please rerun this cell to enable.\n",
              "      </output>\n",
              "      <script>// Copyright 2017 Google LLC\n",
              "//\n",
              "// Licensed under the Apache License, Version 2.0 (the \"License\");\n",
              "// you may not use this file except in compliance with the License.\n",
              "// You may obtain a copy of the License at\n",
              "//\n",
              "//      http://www.apache.org/licenses/LICENSE-2.0\n",
              "//\n",
              "// Unless required by applicable law or agreed to in writing, software\n",
              "// distributed under the License is distributed on an \"AS IS\" BASIS,\n",
              "// WITHOUT WARRANTIES OR CONDITIONS OF ANY KIND, either express or implied.\n",
              "// See the License for the specific language governing permissions and\n",
              "// limitations under the License.\n",
              "\n",
              "/**\n",
              " * @fileoverview Helpers for google.colab Python module.\n",
              " */\n",
              "(function(scope) {\n",
              "function span(text, styleAttributes = {}) {\n",
              "  const element = document.createElement('span');\n",
              "  element.textContent = text;\n",
              "  for (const key of Object.keys(styleAttributes)) {\n",
              "    element.style[key] = styleAttributes[key];\n",
              "  }\n",
              "  return element;\n",
              "}\n",
              "\n",
              "// Max number of bytes which will be uploaded at a time.\n",
              "const MAX_PAYLOAD_SIZE = 100 * 1024;\n",
              "\n",
              "function _uploadFiles(inputId, outputId) {\n",
              "  const steps = uploadFilesStep(inputId, outputId);\n",
              "  const outputElement = document.getElementById(outputId);\n",
              "  // Cache steps on the outputElement to make it available for the next call\n",
              "  // to uploadFilesContinue from Python.\n",
              "  outputElement.steps = steps;\n",
              "\n",
              "  return _uploadFilesContinue(outputId);\n",
              "}\n",
              "\n",
              "// This is roughly an async generator (not supported in the browser yet),\n",
              "// where there are multiple asynchronous steps and the Python side is going\n",
              "// to poll for completion of each step.\n",
              "// This uses a Promise to block the python side on completion of each step,\n",
              "// then passes the result of the previous step as the input to the next step.\n",
              "function _uploadFilesContinue(outputId) {\n",
              "  const outputElement = document.getElementById(outputId);\n",
              "  const steps = outputElement.steps;\n",
              "\n",
              "  const next = steps.next(outputElement.lastPromiseValue);\n",
              "  return Promise.resolve(next.value.promise).then((value) => {\n",
              "    // Cache the last promise value to make it available to the next\n",
              "    // step of the generator.\n",
              "    outputElement.lastPromiseValue = value;\n",
              "    return next.value.response;\n",
              "  });\n",
              "}\n",
              "\n",
              "/**\n",
              " * Generator function which is called between each async step of the upload\n",
              " * process.\n",
              " * @param {string} inputId Element ID of the input file picker element.\n",
              " * @param {string} outputId Element ID of the output display.\n",
              " * @return {!Iterable<!Object>} Iterable of next steps.\n",
              " */\n",
              "function* uploadFilesStep(inputId, outputId) {\n",
              "  const inputElement = document.getElementById(inputId);\n",
              "  inputElement.disabled = false;\n",
              "\n",
              "  const outputElement = document.getElementById(outputId);\n",
              "  outputElement.innerHTML = '';\n",
              "\n",
              "  const pickedPromise = new Promise((resolve) => {\n",
              "    inputElement.addEventListener('change', (e) => {\n",
              "      resolve(e.target.files);\n",
              "    });\n",
              "  });\n",
              "\n",
              "  const cancel = document.createElement('button');\n",
              "  inputElement.parentElement.appendChild(cancel);\n",
              "  cancel.textContent = 'Cancel upload';\n",
              "  const cancelPromise = new Promise((resolve) => {\n",
              "    cancel.onclick = () => {\n",
              "      resolve(null);\n",
              "    };\n",
              "  });\n",
              "\n",
              "  // Wait for the user to pick the files.\n",
              "  const files = yield {\n",
              "    promise: Promise.race([pickedPromise, cancelPromise]),\n",
              "    response: {\n",
              "      action: 'starting',\n",
              "    }\n",
              "  };\n",
              "\n",
              "  cancel.remove();\n",
              "\n",
              "  // Disable the input element since further picks are not allowed.\n",
              "  inputElement.disabled = true;\n",
              "\n",
              "  if (!files) {\n",
              "    return {\n",
              "      response: {\n",
              "        action: 'complete',\n",
              "      }\n",
              "    };\n",
              "  }\n",
              "\n",
              "  for (const file of files) {\n",
              "    const li = document.createElement('li');\n",
              "    li.append(span(file.name, {fontWeight: 'bold'}));\n",
              "    li.append(span(\n",
              "        `(${file.type || 'n/a'}) - ${file.size} bytes, ` +\n",
              "        `last modified: ${\n",
              "            file.lastModifiedDate ? file.lastModifiedDate.toLocaleDateString() :\n",
              "                                    'n/a'} - `));\n",
              "    const percent = span('0% done');\n",
              "    li.appendChild(percent);\n",
              "\n",
              "    outputElement.appendChild(li);\n",
              "\n",
              "    const fileDataPromise = new Promise((resolve) => {\n",
              "      const reader = new FileReader();\n",
              "      reader.onload = (e) => {\n",
              "        resolve(e.target.result);\n",
              "      };\n",
              "      reader.readAsArrayBuffer(file);\n",
              "    });\n",
              "    // Wait for the data to be ready.\n",
              "    let fileData = yield {\n",
              "      promise: fileDataPromise,\n",
              "      response: {\n",
              "        action: 'continue',\n",
              "      }\n",
              "    };\n",
              "\n",
              "    // Use a chunked sending to avoid message size limits. See b/62115660.\n",
              "    let position = 0;\n",
              "    do {\n",
              "      const length = Math.min(fileData.byteLength - position, MAX_PAYLOAD_SIZE);\n",
              "      const chunk = new Uint8Array(fileData, position, length);\n",
              "      position += length;\n",
              "\n",
              "      const base64 = btoa(String.fromCharCode.apply(null, chunk));\n",
              "      yield {\n",
              "        response: {\n",
              "          action: 'append',\n",
              "          file: file.name,\n",
              "          data: base64,\n",
              "        },\n",
              "      };\n",
              "\n",
              "      let percentDone = fileData.byteLength === 0 ?\n",
              "          100 :\n",
              "          Math.round((position / fileData.byteLength) * 100);\n",
              "      percent.textContent = `${percentDone}% done`;\n",
              "\n",
              "    } while (position < fileData.byteLength);\n",
              "  }\n",
              "\n",
              "  // All done.\n",
              "  yield {\n",
              "    response: {\n",
              "      action: 'complete',\n",
              "    }\n",
              "  };\n",
              "}\n",
              "\n",
              "scope.google = scope.google || {};\n",
              "scope.google.colab = scope.google.colab || {};\n",
              "scope.google.colab._files = {\n",
              "  _uploadFiles,\n",
              "  _uploadFilesContinue,\n",
              "};\n",
              "})(self);\n",
              "</script> "
            ]
          },
          "metadata": {}
        },
        {
          "output_type": "stream",
          "name": "stdout",
          "text": [
            "Saving template to check rule đơn - 3449670 (25).csv to template to check rule đơn - 3449670 (25).csv\n"
          ]
        }
      ],
      "source": [
        "uploaded = files.upload()\n",
        "key, value = list(uploaded.items())[0]\n",
        "data = pd.read_csv(key)\n",
        "pre_df = deepcopy(data)\n",
        "pre_df.loc[:, pre_df.columns != 'merchant_profit'] = pre_df.loc[:, pre_df.columns != 'merchant_profit'].fillna(\"\")"
      ]
    },
    {
      "cell_type": "code",
      "execution_count": null,
      "metadata": {
        "id": "2hJPFSPGWVxO"
      },
      "outputs": [],
      "source": [
        "df = deepcopy(pre_df)"
      ]
    },
    {
      "cell_type": "markdown",
      "metadata": {
        "id": "CyccPZRvXVeT"
      },
      "source": [
        "## *Change column type*"
      ]
    },
    {
      "cell_type": "code",
      "execution_count": null,
      "metadata": {
        "id": "--YlRw-MmA_2"
      },
      "outputs": [],
      "source": [
        "df['merchant_profit'] = df['merchant_profit'].fillna('9999999999')"
      ]
    },
    {
      "cell_type": "code",
      "execution_count": null,
      "metadata": {
        "id": "XeXcb2_dWV5x"
      },
      "outputs": [],
      "source": [
        "#change data type:\n",
        "\n",
        "# df[\"No. orders associated with this customer email per day\"] = \\\n",
        "  # df[\"No. orders associated with this customer email per day\"].replace('',0).astype(float)\n",
        "df['no_order_customer_per_day'] = \\\n",
        "  df['no_order_customer_per_day'].replace('',0).astype(float)\n",
        "# df['count_order_of_customer_email'] = \\\n",
        "  # df['count_order_of_customer_email'].replace('',0).astype(float)\n",
        "# df[\"Shipping addresses are (x) km far from card's address\"] = \\\n",
        "  # df[\"Shipping addresses are (x) km far from card's address\"].replace('',0).astype(float)\n",
        "df[\"distance_billing_to_shipment\"] = \\\n",
        "  df[\"distance_billing_to_shipment\"].replace('',0).astype(float)\n",
        "df[\"shipping_distance\"] = \\\n",
        "  df[\"shipping_distance\"].replace('',0).astype(float)\n",
        "df[\"billing_distance\"] = \\\n",
        "  df[\"billing_distance\"].replace('',0).astype(float)\n",
        "df[\"fraud_score\"] = df[\"fraud_score\"].replace('',0).astype(float)\n",
        "df[\"payment_with_credit_card\"] = \\\n",
        "  df[\"payment_with_credit_card\"].replace('',0).astype(float)\n",
        "df[\"gmv\"] = df[\"gmv\"].replace('',0).astype(float)\n",
        "df[\"merchant_profit\"] = df[\"merchant_profit\"].replace('9,999,999,999.00', 9999999999).astype(float)\n",
        "df[\"profit_margin\"] = df[\"merchant_profit\"]/df[\"gmv\"]\n",
        "df[\"total_quantity\"] = df[\"total_quantity\"].replace('',0).astype(float)\n",
        "df[\"line_item_count\"] = df[\"line_item_count\"].replace('',0).astype(float)\n",
        "df[\"margin_sale_cost\"] = df[\"margin_sale_cost\"].replace('',0).astype(float)\n",
        "# df[\"sale_cost_rate\"] = df[\"sale_cost_rate\"].replace('',0).astype(float)\n",
        "df[\"payment_attempt\"] = df[\"payment_attempt\"].replace('',0).astype(float)\n",
        "df[\"email_fraud_score\"] = df[\"email_fraud_score\"].replace('',0).astype(float)\n",
        "# df[\"Customer email AI score\"] = df[\"Customer email AI score\"].replace('',0).astype(float)\n",
        "# df[\"count_dispute_same_ip\"] = df[\"count_dispute_same_ip\"].replace('',0).astype(float)\n",
        "df[\"buyer_email\"] = df[\"buyer_email\"].str.lower()\n",
        "df['count_order_of_customer_email'] = df[\"count_order_of_customer_email\"].replace('',0).astype(float)\n",
        "df['count_dispute_same_ip'] = df[\"count_dispute_same_ip\"].replace('',0).astype(float)\n",
        "df[\"stripe_risk_level\"]=df[\"stripe_risk_level\"].str.lower()\n",
        "df['count_buyer_email_same_name'] = df[\"count_buyer_email_same_name\"].replace('',0).astype(float)\n",
        "df['count_buyer_name_same_email'] = df[\"count_buyer_name_same_email\"].replace('',0).astype(float)\n",
        "df['count_pmt_billing_addres_of_buyer'] = df[\"count_pmt_billing_addres_of_buyer\"].replace('',0).astype(float)\n",
        "df['no_customer_shop_per_merchant'] = df[\"no_customer_shop_per_merchant\"].replace('',0).astype(float)"
      ]
    },
    {
      "cell_type": "code",
      "execution_count": null,
      "metadata": {
        "id": "lCKBm1S6vku6"
      },
      "outputs": [],
      "source": [
        "if purpose == 'dispute':\n",
        "  df['same_dispute_ip'] = ''\n",
        "  df['count_dispute_same_ip'] = 0\n",
        "else:\n",
        "  df = df"
      ]
    },
    {
      "cell_type": "code",
      "execution_count": null,
      "metadata": {
        "id": "HpVJDqijbf8M"
      },
      "outputs": [],
      "source": [
        "df.loc[df['merchant_profit'] == 9999999999, 'profit_margin'] = 0"
      ]
    },
    {
      "cell_type": "markdown",
      "metadata": {
        "id": "vEVhPf6eXZLk"
      },
      "source": [
        "## *Assign Significant*"
      ]
    },
    {
      "cell_type": "code",
      "execution_count": null,
      "metadata": {
        "id": "sDyIfohYWV86"
      },
      "outputs": [],
      "source": [
        "#significant\n",
        "signal30S = df[\"pmt_decline_codes_reason\"].str.contains(\"blocklist|elevated_risk_level|highest_risk_level|lost_card|pickup_card|restricted_card|security_violation|service_not_allowed|stolen_card|fraudulent\")\n",
        "signal38S = df[\"payment_attempt\"] >= 15\n",
        "signal42S = df[\"radar_early_fraud_warning\"] != \"\"\n",
        "signal43S = df[\"stripe_risk_level\"].str.contains(\"highest\")"
      ]
    },
    {
      "cell_type": "markdown",
      "metadata": {
        "id": "Ke46ZyHCXdyU"
      },
      "source": [
        "## *Assign High*"
      ]
    },
    {
      "cell_type": "code",
      "execution_count": null,
      "metadata": {
        "id": "qR0HkcXBWV_x"
      },
      "outputs": [],
      "source": [
        "#High\n",
        "\n",
        "# Bỏ signal 1H, 2H, 3H\n",
        "# signal1H = df['is_valid_email']==\"f\"\n",
        "# signal2H = df['is_disposable_email']==\"t\"\n",
        "# signal3H = df[\"email_fraud_score\"]==100\n",
        "signal5H = df['buyer_email_match_user_email'] == 'match'\n",
        "signal6H = df['count_buyer_email_same_name'] > 2\n",
        "signal7H = df['count_buyer_name_same_email'] > 2\n",
        "signal8H = df['count_pmt_billing_addres_of_buyer'] >= 3\n",
        "signal9H = df['no_customer_shop_per_merchant'] >= 3\n",
        "signal10H = df['buyer_match_this_merchant_ip_history'] == 'match'\n",
        "signal11H = df['no_order_customer_per_day']>2\n",
        "signal12H = df['count_order_of_customer_email']>2\n",
        "signal13H = df['cvv']==\"Card Verification Value (CVV) is incorrect\"\n",
        "signal15H = df[\"shipping_match_ip_country\"]==\"not match\"\n",
        "signal16H = ~((df[\"shipping_match_card_country\"] .str.contains(\"Shipping country matches the card country|TRUE\", na=False)) | \\\n",
        "              (df[\"shipping_match_card_country\"]==\"\"))\n",
        "signal17H = df[\"billing_match_card_country\"] ==\"Billing address ZIP/postal code doesn't match with credit card's registered address\"\n",
        "signal18H = ~((df[\"ip_match_card_country\"] == \"The IP country matches the card country\") | \\\n",
        "              (df[\"ip_match_card_country\"] == \"\"))\n",
        "signal19H = df[\"billing_shipping_match\"] == \"not match\"\n",
        "signal20H = df[\"distance_billing_to_shipment\"] > 1000\n",
        "signal21H = df[\"shipping_distance\"] > 1000\n",
        "signal22H = df[\"billing_distance\"] > 1000\n",
        "signal23H = ~((df[\"billing_country\"] == \"Billing country matches the country from which the order was placed\") | \\\n",
        "              (df[\"billing_country\"]==\"\"))\n",
        "signal24H = df[\"ip_proxy\"]==\"Customer used a web proxy to fake their IP address\"\n",
        "signal25H = (df[\"same_dispute_ip\"] != \"This IP address doesn't match with any previous disputed IP\") & \\\n",
        "            (df[\"same_dispute_ip\"] != \"This IP address isn't available to match\") & \\\n",
        "            (df[\"same_dispute_ip\"] != \"\")\n",
        "signal26H = df[\"fraud_score\"] > 75\n",
        "signal27H = df[\"count_dispute_same_ip\"] >= 3\n",
        "signal28H = df[\"is_top_10_order_of_store\"] == \"yes\"\n",
        "signal29H = df[\"payment_with_credit_card\"]>3\n",
        "signal30H = df[\"pmt_decline_codes_reason\"].str.contains(\"do_not_honor|transaction_not_allowed|incorrect_cvc\", \\\n",
        "                                                        na = False)\n",
        "signal31H = df[\"order_traffic_source\"] == \"direct\"\n",
        "signal32H = df[\"gmv\"] >= 1000\n",
        "signal33H = df[\"merchant_profit\"] == 0\n",
        "signal34H = df['profit_margin'] >= 0.8\n",
        "signal35H = df[\"total_quantity\"] >= 15\n",
        "signal36H = df[\"line_item_count\"] > 4\n",
        "signal37H = df[\"margin_sale_cost\"] < 0\n",
        "signal38H = (df[\"payment_attempt\"] >= 5) & (df[\"payment_attempt\"] < 15)\n",
        "signal39H = df[\"cvc_check\"] == \"fail\"\n",
        "signal40H = df[\"address_line1_check\"] == \"fail\"\n",
        "signal41H = df[\"address_postal_code_check\"] == \"fail\"\n",
        "signal43H = (~df[\"stripe_risk_level\"].str.contains(\"highest\", na=False)) & \\\n",
        "            (df[\"stripe_risk_level\"].str.contains(\"elevated\", na=False))\n",
        "signal44H = df['payment_intent_card_funding'] == 'prepaid'"
      ]
    },
    {
      "cell_type": "markdown",
      "metadata": {
        "id": "skTSEsVEM-KV"
      },
      "source": [
        "## *Assign Medium*"
      ]
    },
    {
      "cell_type": "code",
      "execution_count": null,
      "metadata": {
        "id": "uxLPJUYt_NkW"
      },
      "outputs": [],
      "source": [
        "# Medium\n",
        "\n",
        "# Bỏ signal 3M\n",
        "# signal3M = (df['email_fraud_score'] > 75) & (df['email_fraud_score'] <= 99)\n",
        "signal4M = df['buyer_name_email_similar'] == 'buyer email not contain buyer name'\n",
        "signal6M = df['count_buyer_email_same_name'] == 2\n",
        "signal7M = df[\"count_buyer_name_same_email\"] == 2\n",
        "signal9M = df['no_customer_shop_per_merchant'] == 2\n",
        "signal11M = df['no_order_customer_per_day'] == 2\n",
        "signal12M = df['count_order_of_customer_email'] == 2\n",
        "signal13M = df['cvv'] == \"Card Verification Value (CVV) is unavailable\"\n",
        "signal14M = df['is_3d_secured_request'] == \"3D Secure is NOT required for card\"\n",
        "signal17M = df[\"billing_match_card_country\"] ==\"Billing address ZIP/postal code or credit card's registered address isn't available to match\"\n",
        "signal20M = (df['distance_billing_to_shipment'] > 150) & (df['distance_billing_to_shipment'] <= 1000)\n",
        "signal21M = (df['shipping_distance'] > 150) & (df['shipping_distance'] <= 1000)\n",
        "signal22M = (df['billing_distance'] > 150) & (df['billing_distance'] <= 1000)\n",
        "signal25M = df[\"same_dispute_ip\"] == \"This IP address isn't available to match\"\n",
        "signal26M = (df['fraud_score'] >= 50) & (df['fraud_score'] <= 75)\n",
        "signal27M = (df['count_dispute_same_ip'] >= 1) & (df['count_dispute_same_ip'] <= 2)\n",
        "signal29M = (df['payment_with_credit_card'] >= 2) & (df['payment_with_credit_card'] <= 3)\n",
        "signal30M = df[\"pmt_decline_codes_reason\"].\\\n",
        "           str.contains(\"invalid_account|incorrect_number|requested_block_on_incorrect_cvc\", na = False)\n",
        "signal32M = (df['gmv'] >= 500) & (df['gmv'] < 1000)\n",
        "signal34M = (df['profit_margin'] >= 0.5) & (df['profit_margin'] < 0.8)\n",
        "signal35M = (df[\"total_quantity\"] >= 5) & (df[\"total_quantity\"] < 15)\n",
        "signal36M = (df[\"line_item_count\"] >= 3) & (df[\"line_item_count\"] <= 4)\n",
        "signal38M = df[\"payment_attempt\"] == 2\n",
        "signal39M = df[\"cvc_check\"] == \"unavailable\"\n",
        "signal40M = df[\"address_line1_check\"] == \"unavailable\"\n",
        "signal41M = df[\"address_postal_code_check\"] == \"unavailable\"\n",
        "signal43M = (~df[\"stripe_risk_level\"].str.contains(\"highest\", na=False)) & (~df[\"stripe_risk_level\"].str.contains(\"elevated\", na=False)) & (df[\"stripe_risk_level\"].str.contains(\"unknown|not_assessed\", na=False))\n",
        "signal44M = df['payment_intent_card_funding'] == 'credit'"
      ]
    },
    {
      "cell_type": "code",
      "execution_count": null,
      "metadata": {
        "id": "hErVTqscLSym"
      },
      "outputs": [],
      "source": [
        "# Regenarate significant signal stt\n",
        "df['significant signal stt'] = ''\n",
        "\n",
        "def get_significant_signal_stt(signal, signal_stt):\n",
        "  df.loc[signal, 'significant signal stt'] = df.loc[signal, 'significant signal stt'] + str(signal_stt) + ' '"
      ]
    },
    {
      "cell_type": "code",
      "execution_count": null,
      "metadata": {
        "id": "vYUEXtuELSoO"
      },
      "outputs": [],
      "source": [
        "list_sigficant_signal = [signal30S, signal38S, signal42S, signal43S]\n",
        "list_significant_signal_stt = [30, 38, 42, 43]\n",
        "for i in range(len(list_sigficant_signal)):\n",
        "  get_significant_signal_stt(list_sigficant_signal[i], list_significant_signal_stt[i])"
      ]
    },
    {
      "cell_type": "code",
      "execution_count": null,
      "metadata": {
        "id": "EpY2S6HPLWUj"
      },
      "outputs": [],
      "source": [
        "# Regenarate high signal stt\n",
        "df['high signal stt'] = ''\n",
        "\n",
        "def get_high_signal_stt(signal, signal_stt):\n",
        "    df.loc[signal, 'high signal stt'] = df.loc[signal, 'high signal stt'] + str(signal_stt) + ' '"
      ]
    },
    {
      "cell_type": "code",
      "execution_count": null,
      "metadata": {
        "id": "k_y_oQbxLSez"
      },
      "outputs": [],
      "source": [
        "# Bỏ signal 1H, 2H, 3H\n",
        "list_high_signal = [signal5H, signal6H, signal7H, signal8H, signal9H,\n",
        "                    signal10H, signal11H, signal12H, signal13H, signal15H, signal16H, signal17H, signal18H, signal19H,\n",
        "                    signal20H, signal21H, signal22H, signal23H, signal24H, signal25H, signal26H, signal27H, signal28H, signal29H,\n",
        "                    signal30H, signal31H, signal32H, signal33H, signal34H, signal35H, signal36H, signal37H, signal38H, signal39H,\n",
        "                    signal40H, signal41H, signal43H, signal44H]\n",
        "list_high_signal_stt = [5, 6, 7, 8, 9,\n",
        "                        10, 11, 12, 13, 15, 16, 17, 18, 19,\n",
        "                        20, 21, 22, 23, 24, 25, 26, 27, 28, 29,\n",
        "                        30, 31, 32, 33, 34, 35, 36, 37, 38, 39,\n",
        "                        40, 41, 43, 44]\n",
        "for i in range(len(list_high_signal)):\n",
        "  get_high_signal_stt(list_high_signal[i], list_high_signal_stt[i])"
      ]
    },
    {
      "cell_type": "code",
      "execution_count": null,
      "metadata": {
        "id": "Oo-HXSwV_bid"
      },
      "outputs": [],
      "source": [
        "# Regenarate medium signal stt\n",
        "df['medium signal stt'] = ''\n",
        "\n",
        "def get_medium_signal_stt(signal, signal_stt):\n",
        "    df.loc[signal, 'medium signal stt'] = df.loc[signal, 'medium signal stt'] + str(signal_stt) + ' '"
      ]
    },
    {
      "cell_type": "code",
      "execution_count": null,
      "metadata": {
        "id": "ubSZTK49_b5S"
      },
      "outputs": [],
      "source": [
        "# Bỏ signal 3M\n",
        "list_medium_signal = [signal4M, signal6M, signal7M, signal9M,\n",
        "                      signal11M, signal12M, signal13M, signal14M, signal17M,\n",
        "                      signal20M, signal21M, signal22M, signal25M, signal26M, signal27M, signal29M,\n",
        "                      signal30M, signal32M, signal34M, signal35M, signal36M, signal38M, signal39M,\n",
        "                      signal40M, signal41M, signal43M, signal44M]\n",
        "list_medium_signal_stt = [4, 6, 7, 9,\n",
        "                          11, 12, 13, 14, 17,\n",
        "                          20, 21, 22, 25, 26, 27, 29,\n",
        "                          30, 32, 34, 35, 36, 38, 39,\n",
        "                          40, 41, 43, 44]\n",
        "for i in range(len(list_medium_signal)):\n",
        "  get_medium_signal_stt(list_medium_signal[i], list_medium_signal_stt[i])"
      ]
    },
    {
      "cell_type": "markdown",
      "metadata": {
        "id": "Yt0XAHeMMxnc"
      },
      "source": [
        "### *Count signal*"
      ]
    },
    {
      "cell_type": "code",
      "execution_count": null,
      "metadata": {
        "id": "UliuZRdZLa0H"
      },
      "outputs": [],
      "source": [
        "df['count_significant_risk'] = signal30S * 1 + signal38S * 1 + signal42S * 1 + signal43S * 1"
      ]
    },
    {
      "cell_type": "code",
      "execution_count": null,
      "metadata": {
        "id": "nSPqS00zLa5S"
      },
      "outputs": [],
      "source": [
        "df['count_high_risk'] = signal5H * 1 + signal6H * 1 + signal7H * 1 + signal8H * 1 + \\\n",
        "signal9H * 1 + signal10H * 1 + signal11H * 1 + signal12H * 1 + signal13H * 1 + signal15H * 1 + signal16H * 1 + signal17H * 1 + signal18H * 1 + \\\n",
        "signal19H * 1 + signal20H * 1 + signal21H * 1 + signal22H * 1 + signal23H * 1 + signal24H * 1 + signal25H * 1 + signal26H * 1 + signal27H * 1 + \\\n",
        "signal28H * 1 + signal29H * 1 + signal30H * 1 + signal31H * 1 + signal32H * 1 + signal33H * 1 + signal34H * 1 + signal35H * 1 + signal36H * 1 + \\\n",
        "signal37H * 1 + signal38H * 1 + signal39H * 1 + signal40H * 1 + signal41H * 1 + signal43H * 1 + signal44H * 1"
      ]
    },
    {
      "cell_type": "code",
      "execution_count": null,
      "metadata": {
        "id": "owYVr_jh_hKB"
      },
      "outputs": [],
      "source": [
        "df['count_medium_risk'] = signal4M * 1 + signal6M * 1 + signal7M * 1 + signal9M * 1 + signal11M * 1 + signal12M * 1 + \\\n",
        "signal13M * 1 + signal14M * 1 + signal17M * 1 + signal20M * 1 + signal21M * 1 + signal22M * 1 + signal25M * 1 + signal26M * 1 + signal27M * 1 + \\\n",
        "signal29M * 1 + signal30M * 1 + signal32M * 1 + signal34M * 1 + signal35M * 1 + signal36M * 1 + signal38M * 1 + signal39M * 1 + \\\n",
        "signal40M * 1 + signal41M * 1 + signal43M * 1 + signal44M * 1"
      ]
    },
    {
      "cell_type": "code",
      "execution_count": null,
      "metadata": {
        "id": "XEqMpjXqWWC1"
      },
      "outputs": [],
      "source": [
        "pd.options.mode.chained_assignment = None"
      ]
    },
    {
      "cell_type": "markdown",
      "metadata": {
        "id": "x1hyHVYiXn_0"
      },
      "source": [
        "## *Assign continuing*"
      ]
    },
    {
      "cell_type": "code",
      "execution_count": null,
      "metadata": {
        "id": "uaeAuS3XWWF3"
      },
      "outputs": [],
      "source": [
        "# Alert1\n",
        "Alert1 = df['merchant_profit'] == 9999999999\n",
        "\n",
        "# Alert2\n",
        "Alert2 = signal5H | signal33H\n",
        "\n",
        "# Alert4\n",
        "Alert4 = df['count_order_of_customer_email'] >= 3\n",
        "\n",
        "# Alert5\n",
        "Alert5 = signal34H\n",
        "\n",
        "# S1\n",
        "S1 = signal30S | signal38S | signal42S | signal43S\n",
        "#########################\n",
        "\n",
        "# H3\n",
        "H3 = (df['count_high_risk'] > 8) & (~signal28H)\n",
        "\n",
        "# H9:\n",
        "# >= 2H\n",
        "H9 = (df['count_high_risk'] >= 2) & ((signal13H & signal38H) | (signal34H))\n",
        "\n",
        "# H5\n",
        "# 1H_signal\n",
        "H5 = (df['count_high_risk'] == 1) & \\\n",
        "     (signal11H | signal23H | signal30H | signal32H | signal34H | signal35H | signal38H | signal39H)\n",
        "\n",
        "# M10\n",
        "M10 = df['count_medium_risk'] >= 10\n",
        "\n",
        "# H8\n",
        "H8 = signal28H"
      ]
    },
    {
      "cell_type": "markdown",
      "metadata": {
        "id": "WVC_pbRqXs7z"
      },
      "source": [
        "## *Assign Signals rules*"
      ]
    },
    {
      "cell_type": "code",
      "execution_count": null,
      "metadata": {
        "id": "YcUKloaEXjKx"
      },
      "outputs": [],
      "source": [
        "df['Signals rules'] = \"\"\n",
        "\n",
        "# S1\n",
        "df.loc[S1, \"Signals rules\"] =dict_deci[\"S1\"]\n",
        "exclude = df[\"Signals rules\"] != dict_deci['S1']\n",
        "\n",
        "# H3\n",
        "df.loc[H3 & exclude, \"Signals rules\"] =dict_deci[\"H3\"]\n",
        "exclude = exclude & (df[\"Signals rules\"] != dict_deci['H3'])\n",
        "\n",
        "# Alert1\n",
        "df.loc[Alert1 & exclude, \"Signals rules\"] = dict_deci[\"Alert1\"]\n",
        "exclude = exclude & (df[\"Signals rules\"] != dict_deci['Alert1'])\n",
        "\n",
        "# Alert2\n",
        "df.loc[Alert2 & exclude, \"Signals rules\"] =dict_deci[\"Alert2\"]\n",
        "exclude = exclude & (df[\"Signals rules\"] != dict_deci['Alert2'])\n",
        "\n",
        "# Alert5\n",
        "df.loc[Alert5 & exclude, \"Signals rules\"] = dict_deci[\"Alert5\"]\n",
        "exclude = exclude & (df[\"Signals rules\"] != dict_deci['Alert5'])\n",
        "\n",
        "# Alert4\n",
        "df.loc[Alert4 & exclude, \"Signals rules\"] = dict_deci[\"Alert4\"]\n",
        "exclude = exclude & (df[\"Signals rules\"] != dict_deci['Alert4'])\n",
        "\n",
        "# H8\n",
        "df.loc[H8 & exclude, \"Signals rules\"] = dict_deci[\"H8\"]\n",
        "exclude = exclude & (df[\"Signals rules\"] != dict_deci['H8'])\n",
        "\n",
        "# H5\n",
        "df.loc[H5 & exclude, \"Signals rules\"] = dict_deci[\"H5\"]\n",
        "exclude = exclude & (df[\"Signals rules\"] != dict_deci['H5'])\n",
        "\n",
        "# M10\n",
        "df.loc[M10 & exclude, \"Signals rules\"] =dict_deci[\"M10\"]\n",
        "exclude = exclude & (df[\"Signals rules\"] != dict_deci['M10'])"
      ]
    },
    {
      "cell_type": "markdown",
      "metadata": {
        "id": "n3Qgk_uOSBTA"
      },
      "source": [
        "## *Assign Ref rule*"
      ]
    },
    {
      "cell_type": "code",
      "execution_count": null,
      "metadata": {
        "id": "52nBLaCBSCRC"
      },
      "outputs": [],
      "source": [
        "df['Ref_rule'] = \"\"\n",
        "\n",
        "# S1\n",
        "df.loc[S1, \"Ref_rule\"] = df[\"significant signal stt\"] + str('S')\n",
        "exclude = df[\"Ref_rule\"] != df[\"significant signal stt\"] + str('S')\n",
        "\n",
        "# H3\n",
        "df.loc[H3 & exclude, \"Ref_rule\"] = df['high signal stt'] + str('H')\n",
        "exclude = exclude & (df[\"Ref_rule\"] != df['high signal stt'] + str('H'))\n",
        "\n",
        "# Alert1\n",
        "df.loc[Alert1 & exclude, \"Ref_rule\"] = dict_deci[\"Alert1\"]\n",
        "exclude = exclude & (df[\"Ref_rule\"] != dict_deci['Alert1'])\n",
        "\n",
        "# Alert2\n",
        "df.loc[Alert2 & exclude, \"Ref_rule\"] = dict_deci[\"Alert2\"]\n",
        "exclude = exclude & (df[\"Ref_rule\"] != dict_deci['Alert2'])\n",
        "\n",
        "# Alert5\n",
        "df.loc[Alert5 & exclude, \"Ref_rule\"] = dict_deci[\"Alert5\"]\n",
        "exclude = exclude & (df[\"Ref_rule\"] != dict_deci['Alert5'])\n",
        "\n",
        "# Alert4\n",
        "df.loc[Alert4 & exclude, \"Ref_rule\"] = dict_deci[\"Alert4\"]\n",
        "exclude = exclude & (df[\"Ref_rule\"] != dict_deci['Alert4'])\n",
        "\n",
        "# H8\n",
        "df.loc[H8 & exclude, \"Ref_rule\"] = df['high signal stt'] + str('H')\n",
        "exclude = exclude & (df[\"Ref_rule\"] != df['high signal stt'] + str('H'))\n",
        "\n",
        "# H5\n",
        "df.loc[H5 & exclude, \"Ref_rule\"] = df['high signal stt'] + str('H')\n",
        "exclude = exclude & (df[\"Ref_rule\"] != df['high signal stt'] + str('H'))\n",
        "\n",
        "# M10\n",
        "df.loc[M10 & exclude, \"Ref_rule\"] = df['medium signal stt'] + str('M')\n",
        "exclude = exclude & (df[\"Ref_rule\"] != df['medium signal stt'] + str('M'))"
      ]
    },
    {
      "cell_type": "markdown",
      "metadata": {
        "id": "YTxesGguXwSk"
      },
      "source": [
        "## *Assign Next actions*"
      ]
    },
    {
      "cell_type": "code",
      "execution_count": null,
      "metadata": {
        "id": "5CvOLO-wVQv_"
      },
      "outputs": [],
      "source": [
        "#next action:\n",
        "\n",
        "df[\"Next_action\"] = \"Release to fulfill\"\n",
        "for k in dict_deci:\n",
        "  # print(k)\n",
        "  df.loc[df[\"Signals rules\"]==dict_deci[k], \"Next_action\"] = dict_next_action[k]"
      ]
    },
    {
      "cell_type": "markdown",
      "metadata": {
        "id": "NBVS35LcXycj"
      },
      "source": [
        "### *Test check signals rules*"
      ]
    },
    {
      "cell_type": "code",
      "execution_count": null,
      "metadata": {
        "colab": {
          "base_uri": "https://localhost:8080/"
        },
        "id": "XTR0pFlGXjcz",
        "outputId": "cc577ac1-e204-4654-8dec-0e8ce03f63e6"
      },
      "outputs": [
        {
          "output_type": "execute_result",
          "data": {
            "text/plain": [
              "                    shop_id  order_pl_type  order_id  order_name  \\\n",
              "Next_action                                                        \n",
              "Release to fulfill        3              3         3           3   \n",
              "\n",
              "                    order_created_at  link_hive  buyer_email  payment_gateway  \\\n",
              "Next_action                                                                     \n",
              "Release to fulfill                 3          3            3                3   \n",
              "\n",
              "                    buyer_name_email_similar  no_order_customer_per_day  ...  \\\n",
              "Next_action                                                              ...   \n",
              "Release to fulfill                         3                          3  ...   \n",
              "\n",
              "                    user_id  user_email  significant signal stt  \\\n",
              "Next_action                                                       \n",
              "Release to fulfill        3           3                       3   \n",
              "\n",
              "                    high signal stt  medium signal stt  \\\n",
              "Next_action                                              \n",
              "Release to fulfill                3                  3   \n",
              "\n",
              "                    count_significant_risk  count_high_risk  \\\n",
              "Next_action                                                   \n",
              "Release to fulfill                       3                3   \n",
              "\n",
              "                    count_medium_risk  Signals rules  Ref_rule  \n",
              "Next_action                                                     \n",
              "Release to fulfill                  3              3         3  \n",
              "\n",
              "[1 rows x 66 columns]"
            ],
            "text/html": [
              "\n",
              "  <div id=\"df-2f361a6a-f9bc-428a-802c-d464acc3690c\" class=\"colab-df-container\">\n",
              "    <div>\n",
              "<style scoped>\n",
              "    .dataframe tbody tr th:only-of-type {\n",
              "        vertical-align: middle;\n",
              "    }\n",
              "\n",
              "    .dataframe tbody tr th {\n",
              "        vertical-align: top;\n",
              "    }\n",
              "\n",
              "    .dataframe thead th {\n",
              "        text-align: right;\n",
              "    }\n",
              "</style>\n",
              "<table border=\"1\" class=\"dataframe\">\n",
              "  <thead>\n",
              "    <tr style=\"text-align: right;\">\n",
              "      <th></th>\n",
              "      <th>shop_id</th>\n",
              "      <th>order_pl_type</th>\n",
              "      <th>order_id</th>\n",
              "      <th>order_name</th>\n",
              "      <th>order_created_at</th>\n",
              "      <th>link_hive</th>\n",
              "      <th>buyer_email</th>\n",
              "      <th>payment_gateway</th>\n",
              "      <th>buyer_name_email_similar</th>\n",
              "      <th>no_order_customer_per_day</th>\n",
              "      <th>...</th>\n",
              "      <th>user_id</th>\n",
              "      <th>user_email</th>\n",
              "      <th>significant signal stt</th>\n",
              "      <th>high signal stt</th>\n",
              "      <th>medium signal stt</th>\n",
              "      <th>count_significant_risk</th>\n",
              "      <th>count_high_risk</th>\n",
              "      <th>count_medium_risk</th>\n",
              "      <th>Signals rules</th>\n",
              "      <th>Ref_rule</th>\n",
              "    </tr>\n",
              "    <tr>\n",
              "      <th>Next_action</th>\n",
              "      <th></th>\n",
              "      <th></th>\n",
              "      <th></th>\n",
              "      <th></th>\n",
              "      <th></th>\n",
              "      <th></th>\n",
              "      <th></th>\n",
              "      <th></th>\n",
              "      <th></th>\n",
              "      <th></th>\n",
              "      <th></th>\n",
              "      <th></th>\n",
              "      <th></th>\n",
              "      <th></th>\n",
              "      <th></th>\n",
              "      <th></th>\n",
              "      <th></th>\n",
              "      <th></th>\n",
              "      <th></th>\n",
              "      <th></th>\n",
              "      <th></th>\n",
              "    </tr>\n",
              "  </thead>\n",
              "  <tbody>\n",
              "    <tr>\n",
              "      <th>Release to fulfill</th>\n",
              "      <td>3</td>\n",
              "      <td>3</td>\n",
              "      <td>3</td>\n",
              "      <td>3</td>\n",
              "      <td>3</td>\n",
              "      <td>3</td>\n",
              "      <td>3</td>\n",
              "      <td>3</td>\n",
              "      <td>3</td>\n",
              "      <td>3</td>\n",
              "      <td>...</td>\n",
              "      <td>3</td>\n",
              "      <td>3</td>\n",
              "      <td>3</td>\n",
              "      <td>3</td>\n",
              "      <td>3</td>\n",
              "      <td>3</td>\n",
              "      <td>3</td>\n",
              "      <td>3</td>\n",
              "      <td>3</td>\n",
              "      <td>3</td>\n",
              "    </tr>\n",
              "  </tbody>\n",
              "</table>\n",
              "<p>1 rows × 66 columns</p>\n",
              "</div>\n",
              "    <div class=\"colab-df-buttons\">\n",
              "\n",
              "  <div class=\"colab-df-container\">\n",
              "    <button class=\"colab-df-convert\" onclick=\"convertToInteractive('df-2f361a6a-f9bc-428a-802c-d464acc3690c')\"\n",
              "            title=\"Convert this dataframe to an interactive table.\"\n",
              "            style=\"display:none;\">\n",
              "\n",
              "  <svg xmlns=\"http://www.w3.org/2000/svg\" height=\"24px\" viewBox=\"0 -960 960 960\">\n",
              "    <path d=\"M120-120v-720h720v720H120Zm60-500h600v-160H180v160Zm220 220h160v-160H400v160Zm0 220h160v-160H400v160ZM180-400h160v-160H180v160Zm440 0h160v-160H620v160ZM180-180h160v-160H180v160Zm440 0h160v-160H620v160Z\"/>\n",
              "  </svg>\n",
              "    </button>\n",
              "\n",
              "  <style>\n",
              "    .colab-df-container {\n",
              "      display:flex;\n",
              "      gap: 12px;\n",
              "    }\n",
              "\n",
              "    .colab-df-convert {\n",
              "      background-color: #E8F0FE;\n",
              "      border: none;\n",
              "      border-radius: 50%;\n",
              "      cursor: pointer;\n",
              "      display: none;\n",
              "      fill: #1967D2;\n",
              "      height: 32px;\n",
              "      padding: 0 0 0 0;\n",
              "      width: 32px;\n",
              "    }\n",
              "\n",
              "    .colab-df-convert:hover {\n",
              "      background-color: #E2EBFA;\n",
              "      box-shadow: 0px 1px 2px rgba(60, 64, 67, 0.3), 0px 1px 3px 1px rgba(60, 64, 67, 0.15);\n",
              "      fill: #174EA6;\n",
              "    }\n",
              "\n",
              "    .colab-df-buttons div {\n",
              "      margin-bottom: 4px;\n",
              "    }\n",
              "\n",
              "    [theme=dark] .colab-df-convert {\n",
              "      background-color: #3B4455;\n",
              "      fill: #D2E3FC;\n",
              "    }\n",
              "\n",
              "    [theme=dark] .colab-df-convert:hover {\n",
              "      background-color: #434B5C;\n",
              "      box-shadow: 0px 1px 3px 1px rgba(0, 0, 0, 0.15);\n",
              "      filter: drop-shadow(0px 1px 2px rgba(0, 0, 0, 0.3));\n",
              "      fill: #FFFFFF;\n",
              "    }\n",
              "  </style>\n",
              "\n",
              "    <script>\n",
              "      const buttonEl =\n",
              "        document.querySelector('#df-2f361a6a-f9bc-428a-802c-d464acc3690c button.colab-df-convert');\n",
              "      buttonEl.style.display =\n",
              "        google.colab.kernel.accessAllowed ? 'block' : 'none';\n",
              "\n",
              "      async function convertToInteractive(key) {\n",
              "        const element = document.querySelector('#df-2f361a6a-f9bc-428a-802c-d464acc3690c');\n",
              "        const dataTable =\n",
              "          await google.colab.kernel.invokeFunction('convertToInteractive',\n",
              "                                                    [key], {});\n",
              "        if (!dataTable) return;\n",
              "\n",
              "        const docLinkHtml = 'Like what you see? Visit the ' +\n",
              "          '<a target=\"_blank\" href=https://colab.research.google.com/notebooks/data_table.ipynb>data table notebook</a>'\n",
              "          + ' to learn more about interactive tables.';\n",
              "        element.innerHTML = '';\n",
              "        dataTable['output_type'] = 'display_data';\n",
              "        await google.colab.output.renderOutput(dataTable, element);\n",
              "        const docLink = document.createElement('div');\n",
              "        docLink.innerHTML = docLinkHtml;\n",
              "        element.appendChild(docLink);\n",
              "      }\n",
              "    </script>\n",
              "  </div>\n",
              "\n",
              "\n",
              "<div id=\"df-e1c4eb07-a74d-4c83-a47b-bed96e93ac30\">\n",
              "  <button class=\"colab-df-quickchart\" onclick=\"quickchart('df-e1c4eb07-a74d-4c83-a47b-bed96e93ac30')\"\n",
              "            title=\"Suggest charts.\"\n",
              "            style=\"display:none;\">\n",
              "\n",
              "<svg xmlns=\"http://www.w3.org/2000/svg\" height=\"24px\"viewBox=\"0 0 24 24\"\n",
              "     width=\"24px\">\n",
              "    <g>\n",
              "        <path d=\"M19 3H5c-1.1 0-2 .9-2 2v14c0 1.1.9 2 2 2h14c1.1 0 2-.9 2-2V5c0-1.1-.9-2-2-2zM9 17H7v-7h2v7zm4 0h-2V7h2v10zm4 0h-2v-4h2v4z\"/>\n",
              "    </g>\n",
              "</svg>\n",
              "  </button>\n",
              "\n",
              "<style>\n",
              "  .colab-df-quickchart {\n",
              "    background-color: #E8F0FE;\n",
              "    border: none;\n",
              "    border-radius: 50%;\n",
              "    cursor: pointer;\n",
              "    display: none;\n",
              "    fill: #1967D2;\n",
              "    height: 32px;\n",
              "    padding: 0 0 0 0;\n",
              "    width: 32px;\n",
              "  }\n",
              "\n",
              "  .colab-df-quickchart:hover {\n",
              "    background-color: #E2EBFA;\n",
              "    box-shadow: 0px 1px 2px rgba(60, 64, 67, 0.3), 0px 1px 3px 1px rgba(60, 64, 67, 0.15);\n",
              "    fill: #174EA6;\n",
              "  }\n",
              "\n",
              "  [theme=dark] .colab-df-quickchart {\n",
              "    background-color: #3B4455;\n",
              "    fill: #D2E3FC;\n",
              "  }\n",
              "\n",
              "  [theme=dark] .colab-df-quickchart:hover {\n",
              "    background-color: #434B5C;\n",
              "    box-shadow: 0px 1px 3px 1px rgba(0, 0, 0, 0.15);\n",
              "    filter: drop-shadow(0px 1px 2px rgba(0, 0, 0, 0.3));\n",
              "    fill: #FFFFFF;\n",
              "  }\n",
              "</style>\n",
              "\n",
              "  <script>\n",
              "    async function quickchart(key) {\n",
              "      const charts = await google.colab.kernel.invokeFunction(\n",
              "          'suggestCharts', [key], {});\n",
              "    }\n",
              "    (() => {\n",
              "      let quickchartButtonEl =\n",
              "        document.querySelector('#df-e1c4eb07-a74d-4c83-a47b-bed96e93ac30 button');\n",
              "      quickchartButtonEl.style.display =\n",
              "        google.colab.kernel.accessAllowed ? 'block' : 'none';\n",
              "    })();\n",
              "  </script>\n",
              "</div>\n",
              "    </div>\n",
              "  </div>\n"
            ]
          },
          "metadata": {},
          "execution_count": 65
        }
      ],
      "source": [
        "#count test\n",
        "df.groupby(\"Next_action\").count()"
      ]
    },
    {
      "cell_type": "code",
      "execution_count": null,
      "metadata": {
        "colab": {
          "base_uri": "https://localhost:8080/"
        },
        "id": "XIyOUJosM_G5",
        "outputId": "3b729bbd-62c2-4a49-c56f-f58cdb862c0a"
      },
      "outputs": [
        {
          "output_type": "execute_result",
          "data": {
            "text/plain": [
              "               shop_id  order_pl_type  order_id  order_name  order_created_at  \\\n",
              "Signals rules                                                                   \n",
              "                     3              3         3           3                 3   \n",
              "\n",
              "               link_hive  buyer_email  payment_gateway  \\\n",
              "Signals rules                                            \n",
              "                       3            3                3   \n",
              "\n",
              "               buyer_name_email_similar  no_order_customer_per_day  ...  \\\n",
              "Signals rules                                                       ...   \n",
              "                                      3                          3  ...   \n",
              "\n",
              "               user_id  user_email  significant signal stt  high signal stt  \\\n",
              "Signals rules                                                                 \n",
              "                     3           3                       3                3   \n",
              "\n",
              "               medium signal stt  count_significant_risk  count_high_risk  \\\n",
              "Signals rules                                                               \n",
              "                               3                       3                3   \n",
              "\n",
              "               count_medium_risk  Ref_rule  Next_action  \n",
              "Signals rules                                            \n",
              "                               3         3            3  \n",
              "\n",
              "[1 rows x 66 columns]"
            ],
            "text/html": [
              "\n",
              "  <div id=\"df-7af332d7-cf8a-4bea-bc46-bece146ddb62\" class=\"colab-df-container\">\n",
              "    <div>\n",
              "<style scoped>\n",
              "    .dataframe tbody tr th:only-of-type {\n",
              "        vertical-align: middle;\n",
              "    }\n",
              "\n",
              "    .dataframe tbody tr th {\n",
              "        vertical-align: top;\n",
              "    }\n",
              "\n",
              "    .dataframe thead th {\n",
              "        text-align: right;\n",
              "    }\n",
              "</style>\n",
              "<table border=\"1\" class=\"dataframe\">\n",
              "  <thead>\n",
              "    <tr style=\"text-align: right;\">\n",
              "      <th></th>\n",
              "      <th>shop_id</th>\n",
              "      <th>order_pl_type</th>\n",
              "      <th>order_id</th>\n",
              "      <th>order_name</th>\n",
              "      <th>order_created_at</th>\n",
              "      <th>link_hive</th>\n",
              "      <th>buyer_email</th>\n",
              "      <th>payment_gateway</th>\n",
              "      <th>buyer_name_email_similar</th>\n",
              "      <th>no_order_customer_per_day</th>\n",
              "      <th>...</th>\n",
              "      <th>user_id</th>\n",
              "      <th>user_email</th>\n",
              "      <th>significant signal stt</th>\n",
              "      <th>high signal stt</th>\n",
              "      <th>medium signal stt</th>\n",
              "      <th>count_significant_risk</th>\n",
              "      <th>count_high_risk</th>\n",
              "      <th>count_medium_risk</th>\n",
              "      <th>Ref_rule</th>\n",
              "      <th>Next_action</th>\n",
              "    </tr>\n",
              "    <tr>\n",
              "      <th>Signals rules</th>\n",
              "      <th></th>\n",
              "      <th></th>\n",
              "      <th></th>\n",
              "      <th></th>\n",
              "      <th></th>\n",
              "      <th></th>\n",
              "      <th></th>\n",
              "      <th></th>\n",
              "      <th></th>\n",
              "      <th></th>\n",
              "      <th></th>\n",
              "      <th></th>\n",
              "      <th></th>\n",
              "      <th></th>\n",
              "      <th></th>\n",
              "      <th></th>\n",
              "      <th></th>\n",
              "      <th></th>\n",
              "      <th></th>\n",
              "      <th></th>\n",
              "      <th></th>\n",
              "    </tr>\n",
              "  </thead>\n",
              "  <tbody>\n",
              "    <tr>\n",
              "      <th></th>\n",
              "      <td>3</td>\n",
              "      <td>3</td>\n",
              "      <td>3</td>\n",
              "      <td>3</td>\n",
              "      <td>3</td>\n",
              "      <td>3</td>\n",
              "      <td>3</td>\n",
              "      <td>3</td>\n",
              "      <td>3</td>\n",
              "      <td>3</td>\n",
              "      <td>...</td>\n",
              "      <td>3</td>\n",
              "      <td>3</td>\n",
              "      <td>3</td>\n",
              "      <td>3</td>\n",
              "      <td>3</td>\n",
              "      <td>3</td>\n",
              "      <td>3</td>\n",
              "      <td>3</td>\n",
              "      <td>3</td>\n",
              "      <td>3</td>\n",
              "    </tr>\n",
              "  </tbody>\n",
              "</table>\n",
              "<p>1 rows × 66 columns</p>\n",
              "</div>\n",
              "    <div class=\"colab-df-buttons\">\n",
              "\n",
              "  <div class=\"colab-df-container\">\n",
              "    <button class=\"colab-df-convert\" onclick=\"convertToInteractive('df-7af332d7-cf8a-4bea-bc46-bece146ddb62')\"\n",
              "            title=\"Convert this dataframe to an interactive table.\"\n",
              "            style=\"display:none;\">\n",
              "\n",
              "  <svg xmlns=\"http://www.w3.org/2000/svg\" height=\"24px\" viewBox=\"0 -960 960 960\">\n",
              "    <path d=\"M120-120v-720h720v720H120Zm60-500h600v-160H180v160Zm220 220h160v-160H400v160Zm0 220h160v-160H400v160ZM180-400h160v-160H180v160Zm440 0h160v-160H620v160ZM180-180h160v-160H180v160Zm440 0h160v-160H620v160Z\"/>\n",
              "  </svg>\n",
              "    </button>\n",
              "\n",
              "  <style>\n",
              "    .colab-df-container {\n",
              "      display:flex;\n",
              "      gap: 12px;\n",
              "    }\n",
              "\n",
              "    .colab-df-convert {\n",
              "      background-color: #E8F0FE;\n",
              "      border: none;\n",
              "      border-radius: 50%;\n",
              "      cursor: pointer;\n",
              "      display: none;\n",
              "      fill: #1967D2;\n",
              "      height: 32px;\n",
              "      padding: 0 0 0 0;\n",
              "      width: 32px;\n",
              "    }\n",
              "\n",
              "    .colab-df-convert:hover {\n",
              "      background-color: #E2EBFA;\n",
              "      box-shadow: 0px 1px 2px rgba(60, 64, 67, 0.3), 0px 1px 3px 1px rgba(60, 64, 67, 0.15);\n",
              "      fill: #174EA6;\n",
              "    }\n",
              "\n",
              "    .colab-df-buttons div {\n",
              "      margin-bottom: 4px;\n",
              "    }\n",
              "\n",
              "    [theme=dark] .colab-df-convert {\n",
              "      background-color: #3B4455;\n",
              "      fill: #D2E3FC;\n",
              "    }\n",
              "\n",
              "    [theme=dark] .colab-df-convert:hover {\n",
              "      background-color: #434B5C;\n",
              "      box-shadow: 0px 1px 3px 1px rgba(0, 0, 0, 0.15);\n",
              "      filter: drop-shadow(0px 1px 2px rgba(0, 0, 0, 0.3));\n",
              "      fill: #FFFFFF;\n",
              "    }\n",
              "  </style>\n",
              "\n",
              "    <script>\n",
              "      const buttonEl =\n",
              "        document.querySelector('#df-7af332d7-cf8a-4bea-bc46-bece146ddb62 button.colab-df-convert');\n",
              "      buttonEl.style.display =\n",
              "        google.colab.kernel.accessAllowed ? 'block' : 'none';\n",
              "\n",
              "      async function convertToInteractive(key) {\n",
              "        const element = document.querySelector('#df-7af332d7-cf8a-4bea-bc46-bece146ddb62');\n",
              "        const dataTable =\n",
              "          await google.colab.kernel.invokeFunction('convertToInteractive',\n",
              "                                                    [key], {});\n",
              "        if (!dataTable) return;\n",
              "\n",
              "        const docLinkHtml = 'Like what you see? Visit the ' +\n",
              "          '<a target=\"_blank\" href=https://colab.research.google.com/notebooks/data_table.ipynb>data table notebook</a>'\n",
              "          + ' to learn more about interactive tables.';\n",
              "        element.innerHTML = '';\n",
              "        dataTable['output_type'] = 'display_data';\n",
              "        await google.colab.output.renderOutput(dataTable, element);\n",
              "        const docLink = document.createElement('div');\n",
              "        docLink.innerHTML = docLinkHtml;\n",
              "        element.appendChild(docLink);\n",
              "      }\n",
              "    </script>\n",
              "  </div>\n",
              "\n",
              "\n",
              "<div id=\"df-f0fede9f-e538-4640-86c1-1b913af4fb23\">\n",
              "  <button class=\"colab-df-quickchart\" onclick=\"quickchart('df-f0fede9f-e538-4640-86c1-1b913af4fb23')\"\n",
              "            title=\"Suggest charts.\"\n",
              "            style=\"display:none;\">\n",
              "\n",
              "<svg xmlns=\"http://www.w3.org/2000/svg\" height=\"24px\"viewBox=\"0 0 24 24\"\n",
              "     width=\"24px\">\n",
              "    <g>\n",
              "        <path d=\"M19 3H5c-1.1 0-2 .9-2 2v14c0 1.1.9 2 2 2h14c1.1 0 2-.9 2-2V5c0-1.1-.9-2-2-2zM9 17H7v-7h2v7zm4 0h-2V7h2v10zm4 0h-2v-4h2v4z\"/>\n",
              "    </g>\n",
              "</svg>\n",
              "  </button>\n",
              "\n",
              "<style>\n",
              "  .colab-df-quickchart {\n",
              "    background-color: #E8F0FE;\n",
              "    border: none;\n",
              "    border-radius: 50%;\n",
              "    cursor: pointer;\n",
              "    display: none;\n",
              "    fill: #1967D2;\n",
              "    height: 32px;\n",
              "    padding: 0 0 0 0;\n",
              "    width: 32px;\n",
              "  }\n",
              "\n",
              "  .colab-df-quickchart:hover {\n",
              "    background-color: #E2EBFA;\n",
              "    box-shadow: 0px 1px 2px rgba(60, 64, 67, 0.3), 0px 1px 3px 1px rgba(60, 64, 67, 0.15);\n",
              "    fill: #174EA6;\n",
              "  }\n",
              "\n",
              "  [theme=dark] .colab-df-quickchart {\n",
              "    background-color: #3B4455;\n",
              "    fill: #D2E3FC;\n",
              "  }\n",
              "\n",
              "  [theme=dark] .colab-df-quickchart:hover {\n",
              "    background-color: #434B5C;\n",
              "    box-shadow: 0px 1px 3px 1px rgba(0, 0, 0, 0.15);\n",
              "    filter: drop-shadow(0px 1px 2px rgba(0, 0, 0, 0.3));\n",
              "    fill: #FFFFFF;\n",
              "  }\n",
              "</style>\n",
              "\n",
              "  <script>\n",
              "    async function quickchart(key) {\n",
              "      const charts = await google.colab.kernel.invokeFunction(\n",
              "          'suggestCharts', [key], {});\n",
              "    }\n",
              "    (() => {\n",
              "      let quickchartButtonEl =\n",
              "        document.querySelector('#df-f0fede9f-e538-4640-86c1-1b913af4fb23 button');\n",
              "      quickchartButtonEl.style.display =\n",
              "        google.colab.kernel.accessAllowed ? 'block' : 'none';\n",
              "    })();\n",
              "  </script>\n",
              "</div>\n",
              "    </div>\n",
              "  </div>\n"
            ]
          },
          "metadata": {},
          "execution_count": 66
        }
      ],
      "source": [
        "df_count = df.groupby(\"Signals rules\").count()\n",
        "df_count.sort_index()"
      ]
    },
    {
      "cell_type": "code",
      "execution_count": null,
      "metadata": {
        "id": "OVpjjQcY0E4p"
      },
      "outputs": [],
      "source": [
        "df.loc[df['merchant_profit'] == 9999999999, 'merchant_profit'] = ''"
      ]
    },
    {
      "cell_type": "code",
      "execution_count": null,
      "metadata": {
        "colab": {
          "base_uri": "https://localhost:8080/"
        },
        "id": "v_egSWtOK3lS",
        "outputId": "be910137-d743-457a-f2ae-e5c05ea42e0c"
      },
      "outputs": [
        {
          "output_type": "execute_result",
          "data": {
            "text/plain": [
              "3"
            ]
          },
          "metadata": {},
          "execution_count": 68
        }
      ],
      "source": [
        "df.shape[0]"
      ]
    },
    {
      "cell_type": "code",
      "execution_count": null,
      "metadata": {
        "id": "0mXllL4_eOcd"
      },
      "outputs": [],
      "source": [
        "worksheet = gc.open(template_sheet).sheet1\n",
        "rows = worksheet.get_all_values()\n",
        "template = pd.DataFrame.from_records(rows)\n",
        "template = template.rename(columns=template.iloc[0]).drop(template.index[0])\n",
        "df_final = deepcopy(template)"
      ]
    },
    {
      "cell_type": "code",
      "execution_count": null,
      "metadata": {
        "id": "klI_fpnio9Jg"
      },
      "outputs": [],
      "source": [
        "df[\"Checker\"] = Checker\n",
        "df[\"Check_date\"] = Check_date\n",
        "df[\"Check_reason\"] = Check_reason\n",
        "for i in range(len(df.columns)):\n",
        "  df_final[df.columns[i]] = df.iloc[:,i]\n",
        "df_final = df_final.fillna(\"\")\n",
        "order_type = df_final.loc[0, 'order_pl_type']"
      ]
    },
    {
      "cell_type": "code",
      "execution_count": null,
      "metadata": {
        "id": "sKdG7_TIo_fO"
      },
      "outputs": [],
      "source": [
        "from gspread_dataframe import set_with_dataframe\n",
        "\n",
        "final_gsheet = \"{}_output_{}_{}_{}\".format(order_type, Checker, Check_date, ver)\n",
        "gc.create(final_gsheet)\n",
        "sheet = gc.open(final_gsheet).sheet1\n",
        "set_with_dataframe(sheet, df_final)"
      ]
    },
    {
      "cell_type": "code",
      "execution_count": null,
      "metadata": {
        "id": "KgK9WoSQSWrZ"
      },
      "outputs": [],
      "source": [
        "# df_final.to_csv(\"{}_output_{}_{}_{}.csv\".format(order_type, Checker, Check_date, ver))\n",
        "# files.download(\"{}_output_{}_{}_{}.csv\".format(order_type, Checker, Check_date, ver))"
      ]
    },
    {
      "cell_type": "markdown",
      "metadata": {
        "id": "p0IgSv7YdvN3"
      },
      "source": [
        "### *Write hold data to sheet summary*"
      ]
    },
    {
      "cell_type": "code",
      "execution_count": null,
      "metadata": {
        "id": "GK7ypFOXiEOR"
      },
      "outputs": [],
      "source": [
        "def summary_plb(key):\n",
        "  ws = gc.open_by_key(key)\n",
        "  summary_sheet = ws.worksheet('Summary')\n",
        "  summary_data = pd.DataFrame.from_records(summary_sheet.get_all_records(head=1)) # Đọc dữ liệu.\n",
        "  summary_header = summary_data.iloc[0:1, :]\n",
        "  summary_data = summary_data.loc[1:, :]\n",
        "  df_summary = df_final[['Check_reason', 'user_id', 'user_email', 'shop_id', 'order_name', 'order_id', 'order_created_at', 'link_hive', 'buyer_email', 'payment_gateway', 'Final_action', 'Signals rules', 'Ref_rule', 'Next_action']]\n",
        "  df_summary = df_summary[df_summary['Next_action'] != 'Release to fulfill'] # Lấy các orders có Next_action != 'Release to fulfill'\n",
        "  df_summary.rename(columns={'Check_reason':'check_reason',\n",
        "                            'user_id':'user_id',\n",
        "                            'user_email':'user_email',\n",
        "                            'shop_id':'shop_id',\n",
        "                            'order_name':'order_name',\n",
        "                            'order_id':'order_id',\n",
        "                            'order_created_at':'create_at',\n",
        "                            'link_hive':'link_hive',\n",
        "                            'buyer_email':'buyer_email',\n",
        "                            'payment_gateway':'payment_gateways',\n",
        "                            'Final_action':'final_action',\n",
        "                            'Signals rules':'signals_rules',\n",
        "                            'Ref_rule':'ref_rule',\n",
        "                            'Next_action':'next_action'}, inplace=True)\n",
        "  df_summary['create_at'] = pd.to_datetime(df_summary['create_at'], utc=True)\n",
        "  df_summary['label'] = ''\n",
        "  df_summary['week_id'] = df_summary['create_at'].dt.isocalendar().year.apply(str) + df_summary['create_at'].dt.isocalendar().week.apply(str)\n",
        "  df_summary = df_summary[summary_data.columns].sort_values('create_at', ascending=False)\n",
        "  df_summary['create_at'] = df_summary['create_at'].apply(lambda x: x.strftime('%Y-%m-%d %H:%M:%S'))\n",
        "  summary_daily = pd.concat([summary_header, df_summary, summary_data])\n",
        "  summary_daily.fillna('', inplace=True)\n",
        "  summary_sheet.clear()\n",
        "  summary_sheet.update('A1:P',[summary_daily.columns.to_list()]+ summary_daily.to_numpy().tolist()) # Ghi data lên google sheet \"Summary\""
      ]
    },
    {
      "cell_type": "code",
      "execution_count": null,
      "metadata": {
        "id": "WGXIlrz8d5MK"
      },
      "outputs": [],
      "source": [
        "if order_type == 'PLB':\n",
        "  summary_plb('1A8Jy9P2XpP5YE0gxxJMq6iIEZMADukx3YvJQMTmMjuw')\n",
        "elif order_type == 'PB':\n",
        "  summary_plb('1n3u9JH8DsMoI9jBD7NAfwBkeOrMvv97eQs9ZAVCFLRM')"
      ]
    },
    {
      "cell_type": "code",
      "execution_count": null,
      "metadata": {
        "id": "S0L34u7IuD0d"
      },
      "outputs": [],
      "source": []
    }
  ],
  "metadata": {
    "colab": {
      "collapsed_sections": [
        "Yt0XAHeMMxnc",
        "NBVS35LcXycj"
      ],
      "provenance": []
    },
    "kernelspec": {
      "display_name": "Python 3",
      "name": "python3"
    },
    "language_info": {
      "name": "python"
    }
  },
  "nbformat": 4,
  "nbformat_minor": 0
}